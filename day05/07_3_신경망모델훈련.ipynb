{
 "cells": [
  {
   "cell_type": "markdown",
   "metadata": {},
   "source": [
    "### 사전준비"
   ]
  },
  {
   "cell_type": "code",
   "execution_count": 76,
   "metadata": {},
   "outputs": [],
   "source": [
    "# 기본 패키지 import\n",
    "import numpy as np\n",
    "import pandas as pd\n",
    "import scipy as sp\n",
    "\n",
    "import matplotlib as mpl\n",
    "import matplotlib.pyplot as plt\n",
    "import seaborn as sns"
   ]
  },
  {
   "cell_type": "code",
   "execution_count": 77,
   "metadata": {},
   "outputs": [],
   "source": [
    "# 한글 설정/차트 마이너스 깨짐현상 해결 / seaborn으로 화면설정\n",
    "from matplotlib import rc\n",
    "import matplotlib.font_manager as fm\n",
    "\n",
    "plt.rc('font', family='Malgun Gothic')\n",
    "sns.set(font='Malgun Gothic', rc={'axes.unicode_minus':False}, style='darkgrid')"
   ]
  },
  {
   "cell_type": "markdown",
   "metadata": {},
   "source": [
    "### 패션MNIST 데이터\n",
    "\n",
    "데이터로드"
   ]
  },
  {
   "cell_type": "code",
   "execution_count": 78,
   "metadata": {},
   "outputs": [],
   "source": [
    "from tensorflow import keras\n",
    "from tensorflow.keras.datasets.fashion_mnist import load_data\n",
    "from sklearn.model_selection import train_test_split"
   ]
  },
  {
   "cell_type": "code",
   "execution_count": 79,
   "metadata": {},
   "outputs": [],
   "source": [
    "(train_input, train_target),(test_input, test_target) = load_data()"
   ]
  },
  {
   "cell_type": "markdown",
   "metadata": {},
   "source": [
    "#### 정규화"
   ]
  },
  {
   "cell_type": "code",
   "execution_count": 80,
   "metadata": {},
   "outputs": [],
   "source": [
    "(train_input, train_target), (test_input, test_target) = load_data()"
   ]
  },
  {
   "cell_type": "code",
   "execution_count": 81,
   "metadata": {},
   "outputs": [],
   "source": [
    "train_scaled = train_input / 255.0      # 0~1 실수값 변경"
   ]
  },
  {
   "cell_type": "code",
   "execution_count": 82,
   "metadata": {},
   "outputs": [],
   "source": [
    "train_scaled, val_scaled, train_target, val_target = train_test_split(train_scaled, train_target, test_size=0.2, random_state=42)"
   ]
  },
  {
   "cell_type": "code",
   "execution_count": 83,
   "metadata": {},
   "outputs": [
    {
     "data": {
      "text/plain": [
       "(60000, 28, 28)"
      ]
     },
     "execution_count": 83,
     "metadata": {},
     "output_type": "execute_result"
    }
   ],
   "source": [
    "train_input.shape"
   ]
  },
  {
   "cell_type": "code",
   "execution_count": 84,
   "metadata": {},
   "outputs": [
    {
     "data": {
      "text/plain": [
       "(48000, 28, 28)"
      ]
     },
     "execution_count": 84,
     "metadata": {},
     "output_type": "execute_result"
    }
   ],
   "source": [
    "train_scaled.shape"
   ]
  },
  {
   "cell_type": "code",
   "execution_count": 85,
   "metadata": {},
   "outputs": [
    {
     "name": "stdout",
     "output_type": "stream",
     "text": [
      "(48000, 28, 28) (48000,)\n",
      "(12000, 28, 28) (12000,)\n"
     ]
    }
   ],
   "source": [
    "print(train_scaled.shape, train_target.shape)\n",
    "print(val_scaled.shape, val_target.shape)"
   ]
  },
  {
   "cell_type": "markdown",
   "metadata": {},
   "source": [
    "#### 모델생성 함수"
   ]
  },
  {
   "cell_type": "code",
   "execution_count": 86,
   "metadata": {},
   "outputs": [],
   "source": [
    "def model_fn(a_layer=None):\n",
    "    model = keras.Sequential(name='ReLU_fashionMNIST_Deep_Model')\n",
    "    model.add(keras.layers.Flatten(input_shape=(28,28)))    # 2차원 입력값을 1차원으로\n",
    "    model.add(keras.layers.Dense(100, activation='relu', name='hidden'))\n",
    "\n",
    "    if a_layer:\n",
    "        model.add(a_layer)\n",
    "        \n",
    "    model.add(keras.layers.Dense(10, activation='softmax', name='output'))\n",
    "\n",
    "    return model"
   ]
  },
  {
   "cell_type": "code",
   "execution_count": 87,
   "metadata": {},
   "outputs": [
    {
     "name": "stdout",
     "output_type": "stream",
     "text": [
      "Model: \"ReLU_fashionMNIST_Deep_Model\"\n",
      "_________________________________________________________________\n",
      " Layer (type)                Output Shape              Param #   \n",
      "=================================================================\n",
      " flatten_9 (Flatten)         (None, 784)               0         \n",
      "                                                                 \n",
      " hidden (Dense)              (None, 100)               78500     \n",
      "                                                                 \n",
      " hidden2 (Dense)             (None, 100)               10100     \n",
      "                                                                 \n",
      " output (Dense)              (None, 10)                1010      \n",
      "                                                                 \n",
      "=================================================================\n",
      "Total params: 89,610\n",
      "Trainable params: 89,610\n",
      "Non-trainable params: 0\n",
      "_________________________________________________________________\n"
     ]
    }
   ],
   "source": [
    "# 함수 사용 예시\n",
    "model = model_fn(keras.layers.Dense(100, activation='relu', name='hidden2'))\n",
    "model.summary()"
   ]
  },
  {
   "cell_type": "code",
   "execution_count": 88,
   "metadata": {},
   "outputs": [
    {
     "name": "stdout",
     "output_type": "stream",
     "text": [
      "Model: \"ReLU_fashionMNIST_Deep_Model\"\n",
      "_________________________________________________________________\n",
      " Layer (type)                Output Shape              Param #   \n",
      "=================================================================\n",
      " flatten_9 (Flatten)         (None, 784)               0         \n",
      "                                                                 \n",
      " hidden (Dense)              (None, 100)               78500     \n",
      "                                                                 \n",
      " hidden2 (Dense)             (None, 100)               10100     \n",
      "                                                                 \n",
      " output (Dense)              (None, 10)                1010      \n",
      "                                                                 \n",
      "=================================================================\n",
      "Total params: 89,610\n",
      "Trainable params: 89,610\n",
      "Non-trainable params: 0\n",
      "_________________________________________________________________\n"
     ]
    }
   ],
   "source": [
    "model.summary()"
   ]
  },
  {
   "cell_type": "markdown",
   "metadata": {},
   "source": [
    "#### 손실곡선, 정확도"
   ]
  },
  {
   "cell_type": "code",
   "execution_count": 89,
   "metadata": {},
   "outputs": [
    {
     "name": "stdout",
     "output_type": "stream",
     "text": [
      "Model: \"ReLU_fashionMNIST_Deep_Model\"\n",
      "_________________________________________________________________\n",
      " Layer (type)                Output Shape              Param #   \n",
      "=================================================================\n",
      " flatten_10 (Flatten)        (None, 784)               0         \n",
      "                                                                 \n",
      " hidden (Dense)              (None, 100)               78500     \n",
      "                                                                 \n",
      " output (Dense)              (None, 10)                1010      \n",
      "                                                                 \n",
      "=================================================================\n",
      "Total params: 79,510\n",
      "Trainable params: 79,510\n",
      "Non-trainable params: 0\n",
      "_________________________________________________________________\n"
     ]
    }
   ],
   "source": [
    "model = model_fn()\n",
    "model.summary()"
   ]
  },
  {
   "cell_type": "code",
   "execution_count": 90,
   "metadata": {},
   "outputs": [
    {
     "name": "stdout",
     "output_type": "stream",
     "text": [
      "Epoch 1/5\n",
      "1500/1500 - 2s - loss: 0.5314 - accuracy: 0.8120 - 2s/epoch - 1ms/step\n",
      "Epoch 2/5\n",
      "1500/1500 - 2s - loss: 0.3917 - accuracy: 0.8592 - 2s/epoch - 1ms/step\n",
      "Epoch 3/5\n",
      "1500/1500 - 2s - loss: 0.3553 - accuracy: 0.8725 - 2s/epoch - 1ms/step\n",
      "Epoch 4/5\n",
      "1500/1500 - 2s - loss: 0.3333 - accuracy: 0.8806 - 2s/epoch - 1ms/step\n",
      "Epoch 5/5\n",
      "1500/1500 - 2s - loss: 0.3213 - accuracy: 0.8849 - 2s/epoch - 1ms/step\n"
     ]
    }
   ],
   "source": [
    "model.compile(loss='sparse_categorical_crossentropy', metrics='accuracy')\n",
    "history = model.fit(train_scaled, train_target, epochs=5, verbose=2)"
   ]
  },
  {
   "cell_type": "code",
   "execution_count": 91,
   "metadata": {},
   "outputs": [
    {
     "data": {
      "text/plain": [
       "{'loss': [0.5313685536384583,\n",
       "  0.39169615507125854,\n",
       "  0.35532984137535095,\n",
       "  0.333336740732193,\n",
       "  0.3212662637233734],\n",
       " 'accuracy': [0.8120208382606506,\n",
       "  0.8591874837875366,\n",
       "  0.8725208044052124,\n",
       "  0.8806041479110718,\n",
       "  0.8848958611488342]}"
      ]
     },
     "execution_count": 91,
     "metadata": {},
     "output_type": "execute_result"
    }
   ],
   "source": [
    "history.history"
   ]
  },
  {
   "cell_type": "markdown",
   "metadata": {},
   "source": [
    "#### 손실곡선 차트"
   ]
  },
  {
   "cell_type": "code",
   "execution_count": 92,
   "metadata": {},
   "outputs": [
    {
     "data": {
      "image/png": "[encoded data removed]",
      "text/plain": [
       "<Figure size 720x360 with 1 Axes>"
      ]
     },
     "metadata": {},
     "output_type": "display_data"
    }
   ],
   "source": [
    "plt.figure(figsize=(10,5))\n",
    "plt.plot(history.history['loss'])\n",
    "plt.title('손실곡선')\n",
    "plt.xlabel('에포크(훈련횟수')\n",
    "plt.ylabel('손실값')\n",
    "plt.show()\n"
   ]
  },
  {
   "cell_type": "markdown",
   "metadata": {},
   "source": [
    "#### 정확도 차트"
   ]
  },
  {
   "cell_type": "code",
   "execution_count": 93,
   "metadata": {},
   "outputs": [
    {
     "data": {
      "image/png": "[encoded data removed]",
      "text/plain": [
       "<Figure size 720x360 with 1 Axes>"
      ]
     },
     "metadata": {},
     "output_type": "display_data"
    }
   ],
   "source": [
    "plt.figure(figsize=(10,5))\n",
    "plt.plot(history.history['accuracy'])\n",
    "plt.title('정확도')\n",
    "plt.xlabel('에포크(훈련횟수')\n",
    "plt.ylabel('정확도')\n",
    "plt.show()"
   ]
  },
  {
   "cell_type": "markdown",
   "metadata": {},
   "source": [
    "#### 에포크 20번 훈련"
   ]
  },
  {
   "cell_type": "code",
   "execution_count": 94,
   "metadata": {},
   "outputs": [
    {
     "name": "stdout",
     "output_type": "stream",
     "text": [
      "Epoch 1/20\n",
      "1500/1500 [==============================] - 3s 1ms/step - loss: 0.5286 - accuracy: 0.8132\n",
      "Epoch 2/20\n",
      "1500/1500 [==============================] - 2s 2ms/step - loss: 0.3937 - accuracy: 0.8593\n",
      "Epoch 3/20\n",
      "1500/1500 [==============================] - 2s 1ms/step - loss: 0.3548 - accuracy: 0.8722\n",
      "Epoch 4/20\n",
      "1500/1500 [==============================] - 3s 2ms/step - loss: 0.3334 - accuracy: 0.8811\n",
      "Epoch 5/20\n",
      "1500/1500 [==============================] - 3s 2ms/step - loss: 0.3196 - accuracy: 0.8865\n",
      "Epoch 6/20\n",
      "1500/1500 [==============================] - 3s 2ms/step - loss: 0.3060 - accuracy: 0.8914\n",
      "Epoch 7/20\n",
      "1500/1500 [==============================] - 3s 2ms/step - loss: 0.2962 - accuracy: 0.8946\n",
      "Epoch 8/20\n",
      "1500/1500 [==============================] - 3s 2ms/step - loss: 0.2877 - accuracy: 0.8978\n",
      "Epoch 9/20\n",
      "1500/1500 [==============================] - 3s 2ms/step - loss: 0.2824 - accuracy: 0.9001\n",
      "Epoch 10/20\n",
      "1500/1500 [==============================] - 3s 2ms/step - loss: 0.2755 - accuracy: 0.9040\n",
      "Epoch 11/20\n",
      "1500/1500 [==============================] - 3s 2ms/step - loss: 0.2710 - accuracy: 0.9046\n",
      "Epoch 12/20\n",
      "1500/1500 [==============================] - 3s 2ms/step - loss: 0.2641 - accuracy: 0.9072\n",
      "Epoch 13/20\n",
      "1500/1500 [==============================] - 3s 2ms/step - loss: 0.2580 - accuracy: 0.9093\n",
      "Epoch 14/20\n",
      "1500/1500 [==============================] - 3s 2ms/step - loss: 0.2543 - accuracy: 0.9125\n",
      "Epoch 15/20\n",
      "1500/1500 [==============================] - 3s 2ms/step - loss: 0.2509 - accuracy: 0.9135\n",
      "Epoch 16/20\n",
      "1500/1500 [==============================] - 3s 2ms/step - loss: 0.2459 - accuracy: 0.9164\n",
      "Epoch 17/20\n",
      "1500/1500 [==============================] - 3s 2ms/step - loss: 0.2362 - accuracy: 0.9176\n",
      "Epoch 18/20\n",
      "1500/1500 [==============================] - 3s 2ms/step - loss: 0.2367 - accuracy: 0.9182\n",
      "Epoch 19/20\n",
      "1500/1500 [==============================] - 3s 2ms/step - loss: 0.2317 - accuracy: 0.9206\n",
      "Epoch 20/20\n",
      "1500/1500 [==============================] - 3s 2ms/step - loss: 0.2302 - accuracy: 0.9220\n"
     ]
    }
   ],
   "source": [
    "model = model_fn()\n",
    "model.compile(loss='sparse_categorical_crossentropy', metrics='accuracy')\n",
    "history = model.fit(train_scaled, train_target, epochs=20)\n"
   ]
  },
  {
   "cell_type": "code",
   "execution_count": 95,
   "metadata": {},
   "outputs": [
    {
     "data": {
      "image/png": "[encoded data removed]",
      "text/plain": [
       "<Figure size 720x360 with 1 Axes>"
      ]
     },
     "metadata": {},
     "output_type": "display_data"
    }
   ],
   "source": [
    "plt.figure(figsize=(10,5))\n",
    "plt.plot(history.history['loss'])\n",
    "plt.plot(history.history['accuracy'])\n",
    "# plt.title('정확도')\n",
    "plt.xlabel('에포크(훈련횟수)')\n",
    "plt.ylabel('val')\n",
    "plt.show()"
   ]
  },
  {
   "cell_type": "markdown",
   "metadata": {},
   "source": [
    "#### 검증손실\n",
    "\n",
    "훈련세트 훈련 -> 정확도 92%"
   ]
  },
  {
   "cell_type": "code",
   "execution_count": 96,
   "metadata": {},
   "outputs": [
    {
     "name": "stdout",
     "output_type": "stream",
     "text": [
      "Epoch 1/20\n",
      "1500/1500 [==============================] - 3s 2ms/step - loss: 0.5301 - accuracy: 0.8121 - val_loss: 0.4266 - val_accuracy: 0.8445\n",
      "Epoch 2/20\n",
      "1500/1500 [==============================] - 2s 2ms/step - loss: 0.3894 - accuracy: 0.8596 - val_loss: 0.4336 - val_accuracy: 0.8405\n",
      "Epoch 3/20\n",
      "1500/1500 [==============================] - 2s 2ms/step - loss: 0.3533 - accuracy: 0.8722 - val_loss: 0.3978 - val_accuracy: 0.8622\n",
      "Epoch 4/20\n",
      "1500/1500 [==============================] - 3s 2ms/step - loss: 0.3308 - accuracy: 0.8824 - val_loss: 0.3553 - val_accuracy: 0.8779\n",
      "Epoch 5/20\n",
      "1500/1500 [==============================] - 2s 2ms/step - loss: 0.3174 - accuracy: 0.8859 - val_loss: 0.3769 - val_accuracy: 0.8730\n",
      "Epoch 6/20\n",
      "1500/1500 [==============================] - 3s 2ms/step - loss: 0.3050 - accuracy: 0.8911 - val_loss: 0.3633 - val_accuracy: 0.8770\n",
      "Epoch 7/20\n",
      "1500/1500 [==============================] - 3s 2ms/step - loss: 0.2967 - accuracy: 0.8940 - val_loss: 0.3599 - val_accuracy: 0.8822\n",
      "Epoch 8/20\n",
      "1500/1500 [==============================] - 3s 2ms/step - loss: 0.2892 - accuracy: 0.8985 - val_loss: 0.3923 - val_accuracy: 0.8798\n",
      "Epoch 9/20\n",
      "1500/1500 [==============================] - 3s 2ms/step - loss: 0.2845 - accuracy: 0.9015 - val_loss: 0.3714 - val_accuracy: 0.8788\n",
      "Epoch 10/20\n",
      "1500/1500 [==============================] - 4s 3ms/step - loss: 0.2751 - accuracy: 0.9026 - val_loss: 0.3850 - val_accuracy: 0.8765\n",
      "Epoch 11/20\n",
      "1500/1500 [==============================] - 3s 2ms/step - loss: 0.2700 - accuracy: 0.9055 - val_loss: 0.3822 - val_accuracy: 0.8809\n",
      "Epoch 12/20\n",
      "1500/1500 [==============================] - 3s 2ms/step - loss: 0.2659 - accuracy: 0.9073 - val_loss: 0.3872 - val_accuracy: 0.8800\n",
      "Epoch 13/20\n",
      "1500/1500 [==============================] - 3s 2ms/step - loss: 0.2617 - accuracy: 0.9096 - val_loss: 0.3996 - val_accuracy: 0.8840\n",
      "Epoch 14/20\n",
      "1500/1500 [==============================] - 3s 2ms/step - loss: 0.2564 - accuracy: 0.9111 - val_loss: 0.4159 - val_accuracy: 0.8805\n",
      "Epoch 15/20\n",
      "1500/1500 [==============================] - 3s 2ms/step - loss: 0.2538 - accuracy: 0.9146 - val_loss: 0.4128 - val_accuracy: 0.8839\n",
      "Epoch 16/20\n",
      "1500/1500 [==============================] - 3s 2ms/step - loss: 0.2467 - accuracy: 0.9151 - val_loss: 0.3947 - val_accuracy: 0.8838\n",
      "Epoch 17/20\n",
      "1500/1500 [==============================] - 3s 2ms/step - loss: 0.2444 - accuracy: 0.9157 - val_loss: 0.4333 - val_accuracy: 0.8803\n",
      "Epoch 18/20\n",
      "1500/1500 [==============================] - 3s 2ms/step - loss: 0.2397 - accuracy: 0.9181 - val_loss: 0.4091 - val_accuracy: 0.8832\n",
      "Epoch 19/20\n",
      "1500/1500 [==============================] - 3s 2ms/step - loss: 0.2342 - accuracy: 0.9195 - val_loss: 0.4671 - val_accuracy: 0.8767\n",
      "Epoch 20/20\n",
      "1500/1500 [==============================] - 3s 2ms/step - loss: 0.2328 - accuracy: 0.9205 - val_loss: 0.4289 - val_accuracy: 0.8841\n"
     ]
    }
   ],
   "source": [
    "model = model_fn()\n",
    "model.compile(loss='sparse_categorical_crossentropy', metrics='accuracy')\n",
    "history = model.fit(train_scaled, train_target, epochs=20, validation_data=(val_scaled, val_target))\n"
   ]
  },
  {
   "cell_type": "code",
   "execution_count": 97,
   "metadata": {},
   "outputs": [
    {
     "data": {
      "text/plain": [
       "dict_keys(['loss', 'accuracy', 'val_loss', 'val_accuracy'])"
      ]
     },
     "execution_count": 97,
     "metadata": {},
     "output_type": "execute_result"
    }
   ],
   "source": [
    "history.history.keys()"
   ]
  },
  {
   "cell_type": "markdown",
   "metadata": {},
   "source": [
    "#### 훈련세트/검증세트 비교"
   ]
  },
  {
   "cell_type": "code",
   "execution_count": 98,
   "metadata": {},
   "outputs": [
    {
     "data": {
      "image/png": "[encoded data removed]",
      "text/plain": [
       "<Figure size 720x360 with 1 Axes>"
      ]
     },
     "metadata": {},
     "output_type": "display_data"
    }
   ],
   "source": [
    "plt.figure(figsize=(10,5))\n",
    "plt.plot(history.history['loss'])\n",
    "plt.plot(history.history['val_loss'])\n",
    "plt.xlabel('에포크')\n",
    "plt.ylabel('손실값')\n",
    "plt.legend(['훈련','검증'])\n",
    "plt.show()"
   ]
  },
  {
   "cell_type": "markdown",
   "metadata": {},
   "source": [
    "#### 드롭아웃"
   ]
  },
  {
   "cell_type": "code",
   "execution_count": 99,
   "metadata": {},
   "outputs": [
    {
     "name": "stdout",
     "output_type": "stream",
     "text": [
      "Model: \"ReLU_fashionMNIST_Deep_Model\"\n",
      "_________________________________________________________________\n",
      " Layer (type)                Output Shape              Param #   \n",
      "=================================================================\n",
      " flatten_13 (Flatten)        (None, 784)               0         \n",
      "                                                                 \n",
      " hidden (Dense)              (None, 100)               78500     \n",
      "                                                                 \n",
      " dropout_3 (Dropout)         (None, 100)               0         \n",
      "                                                                 \n",
      " output (Dense)              (None, 10)                1010      \n",
      "                                                                 \n",
      "=================================================================\n",
      "Total params: 79,510\n",
      "Trainable params: 79,510\n",
      "Non-trainable params: 0\n",
      "_________________________________________________________________\n"
     ]
    }
   ],
   "source": [
    "model = model_fn(keras.layers.Dropout(0.3))\n",
    "model.summary()"
   ]
  },
  {
   "cell_type": "code",
   "execution_count": 100,
   "metadata": {},
   "outputs": [
    {
     "name": "stdout",
     "output_type": "stream",
     "text": [
      "Epoch 1/20\n",
      "1500/1500 [==============================] - 3s 2ms/step - loss: 0.5900 - accuracy: 0.7920 - val_loss: 0.4365 - val_accuracy: 0.8462\n",
      "Epoch 2/20\n",
      "1500/1500 [==============================] - 3s 2ms/step - loss: 0.4490 - accuracy: 0.8400 - val_loss: 0.4041 - val_accuracy: 0.8587\n",
      "Epoch 3/20\n",
      "1500/1500 [==============================] - 2s 2ms/step - loss: 0.4221 - accuracy: 0.8534 - val_loss: 0.3807 - val_accuracy: 0.8668\n",
      "Epoch 4/20\n",
      "1500/1500 [==============================] - 3s 2ms/step - loss: 0.4084 - accuracy: 0.8583 - val_loss: 0.3922 - val_accuracy: 0.8611\n",
      "Epoch 5/20\n",
      "1500/1500 [==============================] - 3s 2ms/step - loss: 0.3991 - accuracy: 0.8638 - val_loss: 0.3825 - val_accuracy: 0.8748\n",
      "Epoch 6/20\n",
      "1500/1500 [==============================] - 4s 2ms/step - loss: 0.3932 - accuracy: 0.8647 - val_loss: 0.3809 - val_accuracy: 0.8730\n",
      "Epoch 7/20\n",
      "1500/1500 [==============================] - 3s 2ms/step - loss: 0.3900 - accuracy: 0.8687 - val_loss: 0.4051 - val_accuracy: 0.8697\n",
      "Epoch 8/20\n",
      "1500/1500 [==============================] - 4s 2ms/step - loss: 0.3880 - accuracy: 0.8702 - val_loss: 0.4035 - val_accuracy: 0.8737\n",
      "Epoch 9/20\n",
      "1500/1500 [==============================] - 4s 2ms/step - loss: 0.3869 - accuracy: 0.8728 - val_loss: 0.3724 - val_accuracy: 0.8798\n",
      "Epoch 10/20\n",
      "1500/1500 [==============================] - 4s 2ms/step - loss: 0.3808 - accuracy: 0.8731 - val_loss: 0.4020 - val_accuracy: 0.8745\n",
      "Epoch 11/20\n",
      "1500/1500 [==============================] - 4s 2ms/step - loss: 0.3811 - accuracy: 0.8738 - val_loss: 0.3907 - val_accuracy: 0.8778\n",
      "Epoch 12/20\n",
      "1500/1500 [==============================] - 4s 2ms/step - loss: 0.3780 - accuracy: 0.8771 - val_loss: 0.4130 - val_accuracy: 0.8749\n",
      "Epoch 13/20\n",
      "1500/1500 [==============================] - 4s 2ms/step - loss: 0.3742 - accuracy: 0.8779 - val_loss: 0.4509 - val_accuracy: 0.8702\n",
      "Epoch 14/20\n",
      "1500/1500 [==============================] - 4s 3ms/step - loss: 0.3781 - accuracy: 0.8777 - val_loss: 0.4159 - val_accuracy: 0.8787\n",
      "Epoch 15/20\n",
      "1500/1500 [==============================] - 4s 2ms/step - loss: 0.3718 - accuracy: 0.8791 - val_loss: 0.4139 - val_accuracy: 0.8798\n",
      "Epoch 16/20\n",
      "1500/1500 [==============================] - 4s 2ms/step - loss: 0.3796 - accuracy: 0.8799 - val_loss: 0.4271 - val_accuracy: 0.8764\n",
      "Epoch 17/20\n",
      "1500/1500 [==============================] - 4s 2ms/step - loss: 0.3766 - accuracy: 0.8802 - val_loss: 0.4459 - val_accuracy: 0.8792\n",
      "Epoch 18/20\n",
      "1500/1500 [==============================] - 4s 2ms/step - loss: 0.3707 - accuracy: 0.8829 - val_loss: 0.4453 - val_accuracy: 0.8726\n",
      "Epoch 19/20\n",
      "1500/1500 [==============================] - 4s 2ms/step - loss: 0.3699 - accuracy: 0.8821 - val_loss: 0.4440 - val_accuracy: 0.8760\n",
      "Epoch 20/20\n",
      "1500/1500 [==============================] - 4s 2ms/step - loss: 0.3663 - accuracy: 0.8843 - val_loss: 0.4645 - val_accuracy: 0.8771\n"
     ]
    }
   ],
   "source": [
    "model.compile(loss='sparse_categorical_crossentropy', metrics='accuracy')\n",
    "history = model.fit(train_scaled, train_target, epochs=20, validation_data=(val_scaled, val_target))"
   ]
  },
  {
   "cell_type": "code",
   "execution_count": 101,
   "metadata": {},
   "outputs": [
    {
     "data": {
      "image/png": "[encoded data removed]",
      "text/plain": [
       "<Figure size 720x360 with 1 Axes>"
      ]
     },
     "metadata": {},
     "output_type": "display_data"
    }
   ],
   "source": [
    "plt.figure(figsize=(10,5))\n",
    "plt.plot(history.history['loss'])\n",
    "plt.plot(history.history['val_loss'])\n",
    "plt.xlabel('에포크')\n",
    "plt.ylabel('손실값')\n",
    "plt.legend(['훈련','검증'])\n",
    "plt.show()"
   ]
  },
  {
   "cell_type": "code",
   "execution_count": 102,
   "metadata": {},
   "outputs": [
    {
     "name": "stdout",
     "output_type": "stream",
     "text": [
      "Epoch 1/20\n",
      "1500/1500 [==============================] - 3s 2ms/step - loss: 0.3632 - accuracy: 0.8758 - val_loss: 0.4039 - val_accuracy: 0.8723\n",
      "Epoch 2/20\n",
      "1500/1500 [==============================] - 2s 1ms/step - loss: 0.3507 - accuracy: 0.8762 - val_loss: 0.4115 - val_accuracy: 0.8685\n",
      "Epoch 3/20\n",
      "1500/1500 [==============================] - 2s 1ms/step - loss: 0.3332 - accuracy: 0.8795 - val_loss: 0.3765 - val_accuracy: 0.8809\n",
      "Epoch 4/20\n",
      "1500/1500 [==============================] - 2s 1ms/step - loss: 0.3239 - accuracy: 0.8815 - val_loss: 0.3977 - val_accuracy: 0.8699\n",
      "Epoch 5/20\n",
      "1500/1500 [==============================] - 3s 2ms/step - loss: 0.3162 - accuracy: 0.8825 - val_loss: 0.3775 - val_accuracy: 0.8773\n",
      "Epoch 6/20\n",
      "1500/1500 [==============================] - 3s 2ms/step - loss: 0.3126 - accuracy: 0.8848 - val_loss: 0.3631 - val_accuracy: 0.8802\n",
      "Epoch 7/20\n",
      "1500/1500 [==============================] - 3s 2ms/step - loss: 0.3084 - accuracy: 0.8861 - val_loss: 0.3600 - val_accuracy: 0.8791\n",
      "Epoch 8/20\n",
      "1500/1500 [==============================] - 3s 2ms/step - loss: 0.2986 - accuracy: 0.8901 - val_loss: 0.3778 - val_accuracy: 0.8781\n",
      "Epoch 9/20\n",
      "1500/1500 [==============================] - 3s 2ms/step - loss: 0.3002 - accuracy: 0.8893 - val_loss: 0.3574 - val_accuracy: 0.8792\n",
      "Epoch 10/20\n",
      "1500/1500 [==============================] - 3s 2ms/step - loss: 0.2891 - accuracy: 0.8911 - val_loss: 0.3631 - val_accuracy: 0.8813\n",
      "Epoch 11/20\n",
      "1500/1500 [==============================] - 3s 2ms/step - loss: 0.2879 - accuracy: 0.8918 - val_loss: 0.3586 - val_accuracy: 0.8793\n",
      "Epoch 12/20\n",
      "1500/1500 [==============================] - 3s 2ms/step - loss: 0.2855 - accuracy: 0.8917 - val_loss: 0.3575 - val_accuracy: 0.8822\n",
      "Epoch 13/20\n",
      "1500/1500 [==============================] - 3s 2ms/step - loss: 0.2815 - accuracy: 0.8948 - val_loss: 0.3397 - val_accuracy: 0.8880\n",
      "Epoch 14/20\n",
      "1500/1500 [==============================] - 3s 2ms/step - loss: 0.2707 - accuracy: 0.8967 - val_loss: 0.3738 - val_accuracy: 0.8795\n",
      "Epoch 15/20\n",
      "1500/1500 [==============================] - 3s 2ms/step - loss: 0.2739 - accuracy: 0.8959 - val_loss: 0.3627 - val_accuracy: 0.8850\n",
      "Epoch 16/20\n",
      "1500/1500 [==============================] - 3s 2ms/step - loss: 0.2723 - accuracy: 0.9003 - val_loss: 0.3668 - val_accuracy: 0.8831\n",
      "Epoch 17/20\n",
      "1500/1500 [==============================] - 3s 2ms/step - loss: 0.2673 - accuracy: 0.8987 - val_loss: 0.3596 - val_accuracy: 0.8851\n",
      "Epoch 18/20\n",
      "1500/1500 [==============================] - 3s 2ms/step - loss: 0.2653 - accuracy: 0.8995 - val_loss: 0.3531 - val_accuracy: 0.8852\n",
      "Epoch 19/20\n",
      "1500/1500 [==============================] - 3s 2ms/step - loss: 0.2601 - accuracy: 0.8992 - val_loss: 0.3632 - val_accuracy: 0.8818\n",
      "Epoch 20/20\n",
      "1500/1500 [==============================] - 3s 2ms/step - loss: 0.2646 - accuracy: 0.8989 - val_loss: 0.3558 - val_accuracy: 0.8850\n"
     ]
    }
   ],
   "source": [
    "model.compile(loss='sparse_categorical_crossentropy', metrics='accuracy', optimizer='adam')\n",
    "history = model.fit(train_scaled, train_target, epochs=20, validation_data=(val_scaled, val_target))"
   ]
  },
  {
   "cell_type": "code",
   "execution_count": 103,
   "metadata": {},
   "outputs": [
    {
     "data": {
      "image/png": "[encoded data removed]",
      "text/plain": [
       "<Figure size 720x360 with 1 Axes>"
      ]
     },
     "metadata": {},
     "output_type": "display_data"
    }
   ],
   "source": [
    "plt.figure(figsize=(10,5))\n",
    "plt.plot(history.history['loss'])\n",
    "plt.plot(history.history['val_loss'])\n",
    "plt.xlabel('에포크')\n",
    "plt.ylabel('손실값')\n",
    "plt.legend(['훈련','검증'])\n",
    "plt.show()"
   ]
  },
  {
   "cell_type": "code",
   "execution_count": 104,
   "metadata": {},
   "outputs": [
    {
     "name": "stdout",
     "output_type": "stream",
     "text": [
      "Model: \"ReLU_fashionMNIST_Deep_Model\"\n",
      "_________________________________________________________________\n",
      " Layer (type)                Output Shape              Param #   \n",
      "=================================================================\n",
      " flatten_13 (Flatten)        (None, 784)               0         \n",
      "                                                                 \n",
      " hidden (Dense)              (None, 100)               78500     \n",
      "                                                                 \n",
      " dropout_3 (Dropout)         (None, 100)               0         \n",
      "                                                                 \n",
      " output (Dense)              (None, 10)                1010      \n",
      "                                                                 \n",
      "=================================================================\n",
      "Total params: 79,510\n",
      "Trainable params: 79,510\n",
      "Non-trainable params: 0\n",
      "_________________________________________________________________\n"
     ]
    }
   ],
   "source": [
    "model.summary()"
   ]
  },
  {
   "cell_type": "code",
   "execution_count": 105,
   "metadata": {},
   "outputs": [],
   "source": [
    "# 훈련된 가중치만 저장\n",
    "model.save_weights('./data/model-weights.h5')"
   ]
  },
  {
   "cell_type": "code",
   "execution_count": 106,
   "metadata": {},
   "outputs": [],
   "source": [
    "# 훈련된 전체데이터 저장\n",
    "model.save('./data/model.h5')"
   ]
  },
  {
   "cell_type": "markdown",
   "metadata": {},
   "source": [
    "#### 가중치 모델 로드"
   ]
  },
  {
   "cell_type": "code",
   "execution_count": 107,
   "metadata": {},
   "outputs": [],
   "source": [
    "model = model_fn(keras.layers.Dropout(0.3))\n",
    "model.load_weights('./data/model-weights.h5')"
   ]
  },
  {
   "cell_type": "code",
   "execution_count": 108,
   "metadata": {},
   "outputs": [
    {
     "ename": "RuntimeError",
     "evalue": "You must compile your model before training/testing. Use `model.compile(optimizer, loss)`.",
     "output_type": "error",
     "traceback": [
      "\u001b[1;31m---------------------------------------------------------------------------\u001b[0m",
      "\u001b[1;31mRuntimeError\u001b[0m                              Traceback (most recent call last)",
      "\u001b[1;32mc:\\MachineLearning\\StudyML\\day05\\07_3_신경망모델훈련.ipynb 셀 45\u001b[0m in \u001b[0;36m<cell line: 1>\u001b[1;34m()\u001b[0m\n\u001b[1;32m----> <a href='vscode-notebook-cell:/c%3A/MachineLearning/StudyML/day05/07_3_%EC%8B%A0%EA%B2%BD%EB%A7%9D%EB%AA%A8%EB%8D%B8%ED%9B%88%EB%A0%A8.ipynb#Y124sZmlsZQ%3D%3D?line=0'>1</a>\u001b[0m model\u001b[39m.\u001b[39;49mevaluate(val_scaled, val_target)\n",
      "File \u001b[1;32m~\\AppData\\Local\\Packages\\PythonSoftwareFoundation.Python.3.10_qbz5n2kfra8p0\\LocalCache\\local-packages\\Python310\\site-packages\\keras\\utils\\traceback_utils.py:67\u001b[0m, in \u001b[0;36mfilter_traceback.<locals>.error_handler\u001b[1;34m(*args, **kwargs)\u001b[0m\n\u001b[0;32m     65\u001b[0m \u001b[39mexcept\u001b[39;00m \u001b[39mException\u001b[39;00m \u001b[39mas\u001b[39;00m e:  \u001b[39m# pylint: disable=broad-except\u001b[39;00m\n\u001b[0;32m     66\u001b[0m   filtered_tb \u001b[39m=\u001b[39m _process_traceback_frames(e\u001b[39m.\u001b[39m__traceback__)\n\u001b[1;32m---> 67\u001b[0m   \u001b[39mraise\u001b[39;00m e\u001b[39m.\u001b[39mwith_traceback(filtered_tb) \u001b[39mfrom\u001b[39;00m \u001b[39mNone\u001b[39m\n\u001b[0;32m     68\u001b[0m \u001b[39mfinally\u001b[39;00m:\n\u001b[0;32m     69\u001b[0m   \u001b[39mdel\u001b[39;00m filtered_tb\n",
      "File \u001b[1;32m~\\AppData\\Local\\Packages\\PythonSoftwareFoundation.Python.3.10_qbz5n2kfra8p0\\LocalCache\\local-packages\\Python310\\site-packages\\keras\\engine\\training.py:3160\u001b[0m, in \u001b[0;36mModel._assert_compile_was_called\u001b[1;34m(self)\u001b[0m\n\u001b[0;32m   3154\u001b[0m \u001b[39mdef\u001b[39;00m \u001b[39m_assert_compile_was_called\u001b[39m(\u001b[39mself\u001b[39m):\n\u001b[0;32m   3155\u001b[0m   \u001b[39m# Checks whether `compile` has been called. If it has been called,\u001b[39;00m\n\u001b[0;32m   3156\u001b[0m   \u001b[39m# then the optimizer is set. This is different from whether the\u001b[39;00m\n\u001b[0;32m   3157\u001b[0m   \u001b[39m# model is compiled\u001b[39;00m\n\u001b[0;32m   3158\u001b[0m   \u001b[39m# (i.e. whether the model is built and its inputs/outputs are set).\u001b[39;00m\n\u001b[0;32m   3159\u001b[0m   \u001b[39mif\u001b[39;00m \u001b[39mnot\u001b[39;00m \u001b[39mself\u001b[39m\u001b[39m.\u001b[39m_is_compiled:\n\u001b[1;32m-> 3160\u001b[0m     \u001b[39mraise\u001b[39;00m \u001b[39mRuntimeError\u001b[39;00m(\u001b[39m'\u001b[39m\u001b[39mYou must compile your model before \u001b[39m\u001b[39m'\u001b[39m\n\u001b[0;32m   3161\u001b[0m                        \u001b[39m'\u001b[39m\u001b[39mtraining/testing. \u001b[39m\u001b[39m'\u001b[39m\n\u001b[0;32m   3162\u001b[0m                        \u001b[39m'\u001b[39m\u001b[39mUse `model.compile(optimizer, loss)`.\u001b[39m\u001b[39m'\u001b[39m)\n",
      "\u001b[1;31mRuntimeError\u001b[0m: You must compile your model before training/testing. Use `model.compile(optimizer, loss)`."
     ]
    }
   ],
   "source": [
    "# 가중치만 불러와서 오류가 뜸\n",
    "model.evaluate(val_scaled, val_target)"
   ]
  },
  {
   "cell_type": "markdown",
   "metadata": {},
   "source": [
    "#### 전체모델 로드"
   ]
  },
  {
   "cell_type": "code",
   "execution_count": 109,
   "metadata": {},
   "outputs": [
    {
     "name": "stdout",
     "output_type": "stream",
     "text": [
      "375/375 [==============================] - 1s 1ms/step - loss: 0.3558 - accuracy: 0.8850\n"
     ]
    },
    {
     "data": {
      "text/plain": [
       "[0.35576286911964417, 0.8849999904632568]"
      ]
     },
     "execution_count": 109,
     "metadata": {},
     "output_type": "execute_result"
    }
   ],
   "source": [
    "model = keras.models.load_model('./data/model.h5')\n",
    "model.evaluate(val_scaled, val_target)"
   ]
  },
  {
   "cell_type": "markdown",
   "metadata": {},
   "source": [
    "가중치만 저장하면 모델 기능 제약있음. 모델 전체 데이터저장하면 모든 기능 수행"
   ]
  },
  {
   "cell_type": "code",
   "execution_count": 110,
   "metadata": {},
   "outputs": [
    {
     "name": "stdout",
     "output_type": "stream",
     "text": [
      "375/375 [==============================] - 0s 890us/step\n"
     ]
    },
    {
     "data": {
      "text/plain": [
       "array([[1.44054837e-24, 0.00000000e+00, 8.29035447e-31, ...,\n",
       "        8.44020269e-24, 1.00000000e+00, 6.07941052e-32],\n",
       "       [6.79944738e-19, 0.00000000e+00, 3.23147463e-24, ...,\n",
       "        1.06470346e-19, 1.00000000e+00, 9.99535972e-21],\n",
       "       [9.23722672e-23, 4.54968926e-22, 1.98186486e-30, ...,\n",
       "        9.99948621e-01, 2.30017557e-14, 9.78935960e-11],\n",
       "       ...,\n",
       "       [5.08943744e-14, 0.00000000e+00, 1.64486080e-19, ...,\n",
       "        9.52751765e-16, 1.00000000e+00, 1.29335710e-13],\n",
       "       [6.06687679e-17, 0.00000000e+00, 1.29825916e-23, ...,\n",
       "        1.12696533e-25, 1.00000000e+00, 2.40210905e-29],\n",
       "       [1.82438657e-01, 7.58769659e-07, 1.04184188e-02, ...,\n",
       "        2.22440558e-05, 9.85317092e-06, 5.14762938e-01]], dtype=float32)"
      ]
     },
     "execution_count": 110,
     "metadata": {},
     "output_type": "execute_result"
    }
   ],
   "source": [
    "model.predict(val_scaled)"
   ]
  },
  {
   "cell_type": "code",
   "execution_count": 111,
   "metadata": {},
   "outputs": [
    {
     "name": "stdout",
     "output_type": "stream",
     "text": [
      "375/375 [==============================] - 0s 841us/step\n"
     ]
    },
    {
     "data": {
      "text/plain": [
       "0.885"
      ]
     },
     "execution_count": 111,
     "metadata": {},
     "output_type": "execute_result"
    }
   ],
   "source": [
    "### 예측결과\n",
    "val_labels = np.argmax(model.predict(val_scaled), axis=-1)\n",
    "np.mean(val_labels == val_target)"
   ]
  },
  {
   "cell_type": "code",
   "execution_count": 112,
   "metadata": {},
   "outputs": [
    {
     "data": {
      "text/plain": [
       "array([8, 8, 7, ..., 8, 8, 9], dtype=int64)"
      ]
     },
     "execution_count": 112,
     "metadata": {},
     "output_type": "execute_result"
    }
   ],
   "source": [
    "val_labels"
   ]
  },
  {
   "cell_type": "markdown",
   "metadata": {},
   "source": [
    "#### 콜백 Callback"
   ]
  },
  {
   "cell_type": "code",
   "execution_count": 115,
   "metadata": {},
   "outputs": [
    {
     "name": "stdout",
     "output_type": "stream",
     "text": [
      "Epoch 1/20\n",
      "1500/1500 [==============================] - 3s 2ms/step - loss: 0.5797 - accuracy: 0.7957 - val_loss: 0.4146 - val_accuracy: 0.8476\n",
      "Epoch 2/20\n",
      "1500/1500 [==============================] - 2s 2ms/step - loss: 0.4334 - accuracy: 0.8450 - val_loss: 0.3791 - val_accuracy: 0.8643\n",
      "Epoch 3/20\n",
      "1500/1500 [==============================] - 3s 2ms/step - loss: 0.3998 - accuracy: 0.8550 - val_loss: 0.3549 - val_accuracy: 0.8712\n",
      "Epoch 4/20\n",
      "1500/1500 [==============================] - 3s 2ms/step - loss: 0.3803 - accuracy: 0.8621 - val_loss: 0.3593 - val_accuracy: 0.8692\n",
      "Epoch 5/20\n",
      "1500/1500 [==============================] - 3s 2ms/step - loss: 0.3648 - accuracy: 0.8663 - val_loss: 0.3544 - val_accuracy: 0.8708\n",
      "Epoch 6/20\n",
      "1500/1500 [==============================] - 4s 2ms/step - loss: 0.3536 - accuracy: 0.8693 - val_loss: 0.3362 - val_accuracy: 0.8803\n",
      "Epoch 7/20\n",
      "1500/1500 [==============================] - 4s 2ms/step - loss: 0.3419 - accuracy: 0.8739 - val_loss: 0.3368 - val_accuracy: 0.8759\n",
      "Epoch 8/20\n",
      "1500/1500 [==============================] - 4s 3ms/step - loss: 0.3329 - accuracy: 0.8766 - val_loss: 0.3404 - val_accuracy: 0.8768\n",
      "Epoch 9/20\n",
      "1500/1500 [==============================] - 3s 2ms/step - loss: 0.3266 - accuracy: 0.8794 - val_loss: 0.3339 - val_accuracy: 0.8812\n",
      "Epoch 10/20\n",
      "1500/1500 [==============================] - 3s 2ms/step - loss: 0.3182 - accuracy: 0.8821 - val_loss: 0.3225 - val_accuracy: 0.8811\n",
      "Epoch 11/20\n",
      "1500/1500 [==============================] - 3s 2ms/step - loss: 0.3133 - accuracy: 0.8842 - val_loss: 0.3239 - val_accuracy: 0.8849\n",
      "Epoch 12/20\n",
      "1500/1500 [==============================] - 3s 2ms/step - loss: 0.3091 - accuracy: 0.8855 - val_loss: 0.3338 - val_accuracy: 0.8792\n",
      "Epoch 13/20\n",
      "1500/1500 [==============================] - 4s 2ms/step - loss: 0.3001 - accuracy: 0.8878 - val_loss: 0.3196 - val_accuracy: 0.8863\n",
      "Epoch 14/20\n",
      "1500/1500 [==============================] - 4s 3ms/step - loss: 0.2979 - accuracy: 0.8876 - val_loss: 0.3261 - val_accuracy: 0.8823\n",
      "Epoch 15/20\n",
      "1500/1500 [==============================] - 3s 2ms/step - loss: 0.2959 - accuracy: 0.8889 - val_loss: 0.3293 - val_accuracy: 0.8839\n",
      "Epoch 16/20\n",
      "1500/1500 [==============================] - 3s 2ms/step - loss: 0.2924 - accuracy: 0.8904 - val_loss: 0.3313 - val_accuracy: 0.8821\n",
      "Epoch 17/20\n",
      "1500/1500 [==============================] - 3s 2ms/step - loss: 0.2863 - accuracy: 0.8920 - val_loss: 0.3280 - val_accuracy: 0.8867\n",
      "Epoch 18/20\n",
      "1500/1500 [==============================] - 3s 2ms/step - loss: 0.2802 - accuracy: 0.8959 - val_loss: 0.3244 - val_accuracy: 0.8838\n",
      "Epoch 19/20\n",
      "1500/1500 [==============================] - 3s 2ms/step - loss: 0.2804 - accuracy: 0.8955 - val_loss: 0.3227 - val_accuracy: 0.8852\n",
      "Epoch 20/20\n",
      "1500/1500 [==============================] - 2s 2ms/step - loss: 0.2732 - accuracy: 0.8976 - val_loss: 0.3289 - val_accuracy: 0.8808\n"
     ]
    },
    {
     "data": {
      "text/plain": [
       "<keras.callbacks.History at 0x1b3da404a90>"
      ]
     },
     "execution_count": 115,
     "metadata": {},
     "output_type": "execute_result"
    }
   ],
   "source": [
    "model = model_fn(keras.layers.Dropout(0.3))\n",
    "model.compile(loss='sparse_categorical_crossentropy', metrics='accuracy', optimizer='adam')\n",
    "\n",
    "# 베스트 모델을 저장할 콜백\n",
    "checkpoint_cb = keras.callbacks.ModelCheckpoint('./data/best_model.h5')\n",
    "model.fit(train_scaled, train_target, epochs=20, verbose=1, validation_data=(val_scaled, val_target), callbacks=[checkpoint_cb])"
   ]
  },
  {
   "cell_type": "code",
   "execution_count": 116,
   "metadata": {},
   "outputs": [
    {
     "name": "stdout",
     "output_type": "stream",
     "text": [
      "375/375 [==============================] - 0s 1ms/step - loss: 0.3289 - accuracy: 0.8808\n"
     ]
    },
    {
     "data": {
      "text/plain": [
       "[0.32885438203811646, 0.8808333277702332]"
      ]
     },
     "execution_count": 116,
     "metadata": {},
     "output_type": "execute_result"
    }
   ],
   "source": [
    "# 체크포인트 확인\n",
    "# 위 콜백함수에서 제일 마지막 에포크 값이 나옴\n",
    "model = keras.models.load_model('./data/best_model.h5')\n",
    "model.evaluate(val_scaled, val_target)"
   ]
  },
  {
   "cell_type": "markdown",
   "metadata": {},
   "source": [
    "#### 조기종료"
   ]
  },
  {
   "cell_type": "code",
   "execution_count": 133,
   "metadata": {},
   "outputs": [
    {
     "name": "stdout",
     "output_type": "stream",
     "text": [
      "Epoch 1/20\n",
      "1474/1500 [============================>.] - ETA: 0s - loss: 0.5977 - accuracy: 0.7886\n",
      "Epoch 1: val_loss improved from inf to 0.44757, saving model to ./data\\best_model2.h5\n",
      "1500/1500 [==============================] - 3s 2ms/step - loss: 0.5957 - accuracy: 0.7893 - val_loss: 0.4476 - val_accuracy: 0.8392\n",
      "Epoch 2/20\n",
      "1483/1500 [============================>.] - ETA: 0s - loss: 0.4438 - accuracy: 0.8404\n",
      "Epoch 2: val_loss improved from 0.44757 to 0.38961, saving model to ./data\\best_model2.h5\n",
      "1500/1500 [==============================] - 2s 2ms/step - loss: 0.4436 - accuracy: 0.8405 - val_loss: 0.3896 - val_accuracy: 0.8580\n",
      "Epoch 3/20\n",
      "1487/1500 [============================>.] - ETA: 0s - loss: 0.4077 - accuracy: 0.8522\n",
      "Epoch 3: val_loss improved from 0.38961 to 0.37582, saving model to ./data\\best_model2.h5\n",
      "1500/1500 [==============================] - 2s 2ms/step - loss: 0.4074 - accuracy: 0.8521 - val_loss: 0.3758 - val_accuracy: 0.8610\n",
      "Epoch 4/20\n",
      "1491/1500 [============================>.] - ETA: 0s - loss: 0.3851 - accuracy: 0.8608\n",
      "Epoch 4: val_loss did not improve from 0.37582\n",
      "1500/1500 [==============================] - 2s 2ms/step - loss: 0.3847 - accuracy: 0.8609 - val_loss: 0.3847 - val_accuracy: 0.8630\n",
      "Epoch 5/20\n",
      "1489/1500 [============================>.] - ETA: 0s - loss: 0.3695 - accuracy: 0.8648\n",
      "Epoch 5: val_loss improved from 0.37582 to 0.36229, saving model to ./data\\best_model2.h5\n",
      "1500/1500 [==============================] - 2s 2ms/step - loss: 0.3694 - accuracy: 0.8650 - val_loss: 0.3623 - val_accuracy: 0.8683\n",
      "Epoch 6/20\n",
      "1482/1500 [============================>.] - ETA: 0s - loss: 0.3572 - accuracy: 0.8683\n",
      "Epoch 6: val_loss improved from 0.36229 to 0.34036, saving model to ./data\\best_model2.h5\n",
      "1500/1500 [==============================] - 2s 2ms/step - loss: 0.3565 - accuracy: 0.8684 - val_loss: 0.3404 - val_accuracy: 0.8742\n",
      "Epoch 7/20\n",
      "1481/1500 [============================>.] - ETA: 0s - loss: 0.3462 - accuracy: 0.8727\n",
      "Epoch 7: val_loss did not improve from 0.34036\n",
      "1500/1500 [==============================] - 2s 2ms/step - loss: 0.3461 - accuracy: 0.8726 - val_loss: 0.3452 - val_accuracy: 0.8727\n",
      "Epoch 8/20\n",
      "1478/1500 [============================>.] - ETA: 0s - loss: 0.3368 - accuracy: 0.8741\n",
      "Epoch 8: val_loss improved from 0.34036 to 0.33424, saving model to ./data\\best_model2.h5\n",
      "1500/1500 [==============================] - 2s 2ms/step - loss: 0.3378 - accuracy: 0.8739 - val_loss: 0.3342 - val_accuracy: 0.8788\n",
      "Epoch 9/20\n",
      "1494/1500 [============================>.] - ETA: 0s - loss: 0.3313 - accuracy: 0.8773\n",
      "Epoch 9: val_loss improved from 0.33424 to 0.32532, saving model to ./data\\best_model2.h5\n",
      "1500/1500 [==============================] - 2s 2ms/step - loss: 0.3311 - accuracy: 0.8774 - val_loss: 0.3253 - val_accuracy: 0.8808\n",
      "Epoch 10/20\n",
      "1474/1500 [============================>.] - ETA: 0s - loss: 0.3258 - accuracy: 0.8788\n",
      "Epoch 10: val_loss did not improve from 0.32532\n",
      "1500/1500 [==============================] - 2s 2ms/step - loss: 0.3254 - accuracy: 0.8787 - val_loss: 0.3266 - val_accuracy: 0.8827\n",
      "Epoch 11/20\n",
      "1466/1500 [============================>.] - ETA: 0s - loss: 0.3195 - accuracy: 0.8819\n",
      "Epoch 11: val_loss did not improve from 0.32532\n",
      "1500/1500 [==============================] - 2s 2ms/step - loss: 0.3198 - accuracy: 0.8821 - val_loss: 0.3282 - val_accuracy: 0.8784\n"
     ]
    }
   ],
   "source": [
    "model = model_fn(keras.layers.Dropout(0.3))\n",
    "model.compile(loss='sparse_categorical_crossentropy', metrics='accuracy', optimizer='adam')\n",
    "\n",
    "# 베스트 모델을 저장할 콜백\n",
    "# save_best_only=True : 가장 좋은 모델 저장됨!!!! 필수!!!!\n",
    "# verbose=1 : 내용을 출력하기 때문에 각 에포크마다 무슨 값 나오는지 확인가능\n",
    "checkpoint_cb = keras.callbacks.ModelCheckpoint('./data/best_model2.h5', save_best_only=True, verbose=1)\n",
    "\n",
    "# patience : 몇 번 참을래?\n",
    "# restore_best_weights=True : 만약 2번 참았는데 그 전값이 더 최소값이면 그 값으로 돌아가!\n",
    "early_stopping_cb = keras.callbacks.EarlyStopping(patience=2, restore_best_weights=True)\n",
    "history = model.fit(train_scaled, train_target, epochs=20, verbose=1, validation_data=(val_scaled, val_target), callbacks=[checkpoint_cb, early_stopping_cb])"
   ]
  },
  {
   "cell_type": "code",
   "execution_count": 134,
   "metadata": {},
   "outputs": [
    {
     "data": {
      "image/png": "[encoded data removed]",
      "text/plain": [
       "<Figure size 720x360 with 1 Axes>"
      ]
     },
     "metadata": {},
     "output_type": "display_data"
    }
   ],
   "source": [
    "plt.figure(figsize=(10,5))\n",
    "plt.plot(history.history['loss'])\n",
    "plt.plot(history.history['val_loss'])\n",
    "plt.xlabel('에포크')\n",
    "plt.ylabel('손실값')\n",
    "plt.legend(['훈련','검증'])\n",
    "plt.show()"
   ]
  },
  {
   "cell_type": "code",
   "execution_count": 137,
   "metadata": {},
   "outputs": [
    {
     "data": {
      "text/plain": [
       "10"
      ]
     },
     "execution_count": 137,
     "metadata": {},
     "output_type": "execute_result"
    }
   ],
   "source": [
    "# 어느 에포크에서 조기종료했는지 확인\n",
    "early_stopping_cb.stopped_epoch     # 10번째에서 멈춤(드랍아웃)"
   ]
  },
  {
   "cell_type": "code",
   "execution_count": 138,
   "metadata": {},
   "outputs": [
    {
     "name": "stdout",
     "output_type": "stream",
     "text": [
      "375/375 [==============================] - 0s 1ms/step - loss: 0.3253 - accuracy: 0.8808\n"
     ]
    },
    {
     "data": {
      "text/plain": [
       "[0.32532307505607605, 0.8807500004768372]"
      ]
     },
     "execution_count": 138,
     "metadata": {},
     "output_type": "execute_result"
    }
   ],
   "source": [
    "model.evaluate(val_scaled, val_target)      # 5번째 에포크값"
   ]
  },
  {
   "cell_type": "markdown",
   "metadata": {},
   "source": [
    "### 조기종료된 모델 저장값 / 체크포인트로 저장된 모델 저장값 비교"
   ]
  },
  {
   "cell_type": "code",
   "execution_count": 139,
   "metadata": {},
   "outputs": [
    {
     "name": "stdout",
     "output_type": "stream",
     "text": [
      "375/375 [==============================] - 0s 1ms/step - loss: 0.3253 - accuracy: 0.8808\n"
     ]
    },
    {
     "data": {
      "text/plain": [
       "[0.32532307505607605, 0.8807500004768372]"
      ]
     },
     "execution_count": 139,
     "metadata": {},
     "output_type": "execute_result"
    }
   ],
   "source": [
    "model_cp = keras.models.load_model('./data/best_model2.h5')\n",
    "model_cp.evaluate(val_scaled, val_target)"
   ]
  },
  {
   "cell_type": "code",
   "execution_count": 141,
   "metadata": {},
   "outputs": [
    {
     "name": "stdout",
     "output_type": "stream",
     "text": [
      "375/375 [==============================] - 0s 1ms/step\n"
     ]
    },
    {
     "data": {
      "text/plain": [
       "0.88075"
      ]
     },
     "execution_count": 141,
     "metadata": {},
     "output_type": "execute_result"
    }
   ],
   "source": [
    "### 예측결과\n",
    "val_labels = np.argmax(model.predict(val_scaled), axis=-1)\n",
    "np.mean(val_labels == val_target)"
   ]
  },
  {
   "cell_type": "code",
   "execution_count": 144,
   "metadata": {},
   "outputs": [
    {
     "data": {
      "text/plain": [
       "array([8, 8, 7, 4, 8, 4, 1, 0, 4, 5], dtype=int64)"
      ]
     },
     "execution_count": 144,
     "metadata": {},
     "output_type": "execute_result"
    }
   ],
   "source": [
    "### 예측결과\n",
    "val_labels[:10]"
   ]
  }
 ],
 "metadata": {
  "kernelspec": {
   "display_name": "Python 3.10.6 64-bit (windows store)",
   "language": "python",
   "name": "python3"
  },
  "language_info": {
   "codemirror_mode": {
    "name": "ipython",
    "version": 3
   },
   "file_extension": ".py",
   "mimetype": "text/x-python",
   "name": "python",
   "nbconvert_exporter": "python",
   "pygments_lexer": "ipython3",
   "version": "3.10.6"
  },
  "orig_nbformat": 4,
  "vscode": {
   "interpreter": {
    "hash": "8bf0d51478355d2251941b3b98616086516a0eddd7c72ee47a3371765770709a"
   }
  }
 },
 "nbformat": 4,
 "nbformat_minor": 2
}
